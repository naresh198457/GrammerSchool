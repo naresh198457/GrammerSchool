{
 "cells": [
  {
   "cell_type": "code",
   "execution_count": 2,
   "metadata": {},
   "outputs": [],
   "source": [
    "import pandas as pd\n",
    "import sqlite3\n"
   ]
  },
  {
   "cell_type": "code",
   "execution_count": 3,
   "metadata": {},
   "outputs": [],
   "source": [
    "cnx = sqlite3.connect('G:\\My Drive\\Mishitha\\GrammerSchool\\instance\\site.db')\n"
   ]
  },
  {
   "cell_type": "code",
   "execution_count": 5,
   "metadata": {},
   "outputs": [],
   "source": [
    "df = pd.read_sql_query(\"select * from User\", cnx)"
   ]
  },
  {
   "cell_type": "code",
   "execution_count": 6,
   "metadata": {},
   "outputs": [
    {
     "name": "stdout",
     "output_type": "stream",
     "text": [
      "   id          username                  email   image_file firstname  \\\n",
      "0   1  mishitha.sampara   dr.sampara@gmail.com  default.jpg  Mishitha   \n",
      "1   2     mishi.sampara   dr.sampara@gmail.com  default.jpg  Mishitha   \n",
      "2   3         mishi.sam  mrudula2323@gmail.com  default.jpg  Mishitha   \n",
      "\n",
      "  lastname                                           password  \n",
      "0  Sampara  $2b$12$MOtctr5Y2jvqTY7nD6.y6.Tah0Hel1PifSiJpoD...  \n",
      "1  Sampara  $2b$12$2EFp6YUOpyWCEidjYJipWO0nP9mW5mGD3gMnK8g...  \n",
      "2  Sampara  $2b$12$pFSI47CRLYp6nDXz9wB3I.r8rTxlsuNzlclGupA...  \n"
     ]
    }
   ],
   "source": [
    "print(df)"
   ]
  }
 ],
 "metadata": {
  "kernelspec": {
   "display_name": ".venv",
   "language": "python",
   "name": "python3"
  },
  "language_info": {
   "codemirror_mode": {
    "name": "ipython",
    "version": 3
   },
   "file_extension": ".py",
   "mimetype": "text/x-python",
   "name": "python",
   "nbconvert_exporter": "python",
   "pygments_lexer": "ipython3",
   "version": "3.11.7"
  }
 },
 "nbformat": 4,
 "nbformat_minor": 2
}
