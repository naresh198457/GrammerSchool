{
 "cells": [
  {
   "cell_type": "code",
   "execution_count": 80,
   "metadata": {},
   "outputs": [],
   "source": [
    "import pandas as pd\n",
    "import numpy as np\n",
    "import string\n",
    "import os\n",
    "import random\n"
   ]
  },
  {
   "cell_type": "code",
   "execution_count": 81,
   "metadata": {},
   "outputs": [],
   "source": [
    "df_words_comm = pd.read_csv('G:\\My Drive\\Mishitha\\GrammerSchool\\WordsList_Common.csv')"
   ]
  },
  {
   "cell_type": "code",
   "execution_count": 82,
   "metadata": {},
   "outputs": [
    {
     "name": "stdout",
     "output_type": "stream",
     "text": [
      "Index(['words'], dtype='object')\n"
     ]
    }
   ],
   "source": [
    "print(df_words_comm.columns)"
   ]
  },
  {
   "cell_type": "code",
   "execution_count": 83,
   "metadata": {},
   "outputs": [],
   "source": [
    "count = 0\n",
    "datafolder = r'G:\\My Drive\\Mishitha\\GrammerSchool\\datafiles'\n",
    "all_letters_start = pd.DataFrame(columns=['words', 'letter'])\n",
    "all_letters_end = pd.DataFrame(columns=['words', 'letter'])\n",
    "\n",
    "for letter in string.ascii_lowercase:\n",
    "    word_start = [word for word in df_words_comm['words'] if word[0] ==letter and 2<len(word)<6]\n",
    "    word_end = [word for word in df_words_comm['words'] if word[len(word)-1] == letter and 2<len(word)<6]\n",
    "    #print(len(word_start), len(word_end))\n",
    "    filename_start_word = f'{letter}_start_words.csv'\n",
    "    filename_end_word = f'{letter}_end_words.csv'\n",
    "\n",
    "    if len(word_start)>9 and len(word_end)>9:\n",
    "        df_start_words = pd.DataFrame(word_start)\n",
    "        df_end_words = pd.DataFrame(word_end)\n",
    "\n",
    "        df_end_words = df_end_words.rename(columns={0:'words'})\n",
    "        df_end_words['letter'] = letter\n",
    "\n",
    "        df_start_words = df_start_words.rename(columns={0:'words'})\n",
    "        df_start_words['letter'] = letter\n",
    "        #print(df_end_words)\n",
    "\n",
    "        # df_start_words.to_csv(os.path.join(datafolder, filename_start_word), index=False)\n",
    "        # df_end_words.to_csv(os.path.join(datafolder, filename_end_word), index=False)\n",
    "    \n",
    "    all_letters_start = pd.concat([all_letters_start, df_start_words])\n",
    "    all_letters_end = pd.concat([all_letters_end, df_end_words])\n",
    "\n",
    "all_letters_start.to_csv(os.path.join(datafolder, 'words_start.csv'), index=False)\n",
    "all_letters_end.to_csv(os.path.join(datafolder,'words_end.csv'), index=False)\n",
    "\n",
    "        \n",
    "      "
   ]
  },
  {
   "cell_type": "code",
   "execution_count": 84,
   "metadata": {},
   "outputs": [],
   "source": [
    "df_start = pd.read_csv('G:\\My Drive\\Mishitha\\GrammerSchool\\datafiles\\words_start.csv')\n",
    "df_end = pd.read_csv('G:\\My Drive\\Mishitha\\GrammerSchool\\datafiles\\words_end.csv')"
   ]
  },
  {
   "cell_type": "code",
   "execution_count": 85,
   "metadata": {},
   "outputs": [
    {
     "name": "stdout",
     "output_type": "stream",
     "text": [
      "['thi [?] ay        hi [?] he', 'kee [?] ut        grou [?] art', 'fro [?] ake        the [?] ore', 'thin [?] et        bi [?] ive', 'ca [?] ot        whe [?] ow', 'fo [?] ight        thei [?] un', 'tha [?] he        bu [?] hat', 'an [?] ay        woul [?] own']\n",
      "['s', 'p', 'm', 'g', 'n', 'r', 't', 'd']\n"
     ]
    }
   ],
   "source": [
    "letter_list=df_end['letter'].unique().tolist()\n",
    "\n",
    "word_question = []\n",
    "word_letters = []\n",
    "\n",
    "for l in random.sample(letter_list,8):\n",
    "    df_st = df_start.loc[df_start['letter']==l,'words'].tolist()\n",
    "    df_st_list = random.sample(df_st,2)\n",
    "\n",
    "    df_en = df_end.loc[df_end['letter']==l,'words'].tolist()\n",
    "    df_en_list = random.sample(df_en,2)\n",
    "\n",
    "    word1 = df_en[0][:-1]\n",
    "    word2 = df_st[0][1:]\n",
    "    word3 = df_en[1][:-1]\n",
    "    word4 = df_st[1][1:]\n",
    "    word_question.append(word1+' [?] '+word2 + '        ' + word3+' [?] '+word4)\n",
    "    word_letters.append(l)\n",
    "print(word_question)\n",
    "print(word_letters)"
   ]
  },
  {
   "cell_type": "code",
   "execution_count": 90,
   "metadata": {},
   "outputs": [
    {
     "name": "stdout",
     "output_type": "stream",
     "text": [
      "[57, 64, 71, 78, 85, 92]\n"
     ]
    }
   ],
   "source": [
    "start = random.randint(10, 100)\n",
    "step = random.choice([3, 7, 9])\n",
    "Linear_sequence = [start + step * i for i in range(6)]\n",
    "print(Linear_sequence)"
   ]
  },
  {
   "cell_type": "code",
   "execution_count": 96,
   "metadata": {},
   "outputs": [
    {
     "name": "stdout",
     "output_type": "stream",
     "text": [
      "[21, 25, 21, 25, 21, 25, 21, 25, 21]\n"
     ]
    }
   ],
   "source": [
    "zigzig_sequence = []\n",
    "zigzig_sequence.append(random.randint(20, 30))\n",
    "step = random.randint(4,8)\n",
    "for i in range(8):\n",
    "    zigzig_sequence.append(zigzig_sequence[len(zigzig_sequence)-1]+step)\n",
    "    step=step*-1\n",
    "\n",
    "print(zigzig_sequence)"
   ]
  },
  {
   "cell_type": "code",
   "execution_count": 100,
   "metadata": {},
   "outputs": [
    {
     "name": "stdout",
     "output_type": "stream",
     "text": [
      "[27, 26, 28, 25, 29, 24]\n"
     ]
    }
   ],
   "source": [
    "start = 27#random.randint(20, 30)\n",
    "custom_1 = []\n",
    "#custom_1.append(start)\n",
    "for i in range(6):\n",
    "    if i % 2 == 0:\n",
    "        custom_1.append(start + i // 2)\n",
    "    else:\n",
    "        custom_1.append(start - i // 2 - 1)\n",
    "\n",
    "print(custom_1)"
   ]
  },
  {
   "cell_type": "code",
   "execution_count": 98,
   "metadata": {},
   "outputs": [
    {
     "name": "stdout",
     "output_type": "stream",
     "text": [
      "[24, 22, 28, 22, 32, 22, 36, 18]\n"
     ]
    }
   ],
   "source": [
    "custom_2 = []\n",
    "start = random.randint(20, 30)\n",
    "step = 4\n",
    "for i in range(8):\n",
    "    if i % 2 == 0:\n",
    "        custom_2.append(start + step * (i // 2))\n",
    "    else:\n",
    "        custom_2.append(start - random.randint(2, 6))\n",
    "print(custom_2)"
   ]
  },
  {
   "cell_type": "code",
   "execution_count": null,
   "metadata": {},
   "outputs": [],
   "source": [
    "start = random.randint(1, 50)\n",
    "sequence.append(start)\n",
    "for i in range(1, length):\n",
    "    step = random.choice([-10, -5, 0, 5, 10])\n",
    "    sequence.append(sequence[-1] + step)"
   ]
  }
 ],
 "metadata": {
  "kernelspec": {
   "display_name": ".venv",
   "language": "python",
   "name": "python3"
  },
  "language_info": {
   "codemirror_mode": {
    "name": "ipython",
    "version": 3
   },
   "file_extension": ".py",
   "mimetype": "text/x-python",
   "name": "python",
   "nbconvert_exporter": "python",
   "pygments_lexer": "ipython3",
   "version": "3.11.7"
  }
 },
 "nbformat": 4,
 "nbformat_minor": 2
}
